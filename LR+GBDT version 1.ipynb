{
 "cells": [
  {
   "cell_type": "code",
   "execution_count": 1,
   "metadata": {},
   "outputs": [],
   "source": [
    "import gc\n",
    "import pandas as pd\n",
    "import numpy as np\n",
    "from sklearn.linear_model import LogisticRegression\n",
    "from sklearn.model_selection import train_test_split"
   ]
  },
  {
   "cell_type": "code",
   "execution_count": 2,
   "metadata": {},
   "outputs": [],
   "source": [
    "path = \"./data/\"\n",
    "train_file = \"filtered_train.csv\"\n",
    "trainfull = pd.read_csv(train_file)"
   ]
  },
  {
   "cell_type": "code",
   "execution_count": 3,
   "metadata": {},
   "outputs": [
    {
     "data": {
      "text/html": [
       "<div>\n",
       "<style scoped>\n",
       "    .dataframe tbody tr th:only-of-type {\n",
       "        vertical-align: middle;\n",
       "    }\n",
       "\n",
       "    .dataframe tbody tr th {\n",
       "        vertical-align: top;\n",
       "    }\n",
       "\n",
       "    .dataframe thead th {\n",
       "        text-align: right;\n",
       "    }\n",
       "</style>\n",
       "<table border=\"1\" class=\"dataframe\">\n",
       "  <thead>\n",
       "    <tr style=\"text-align: right;\">\n",
       "      <th></th>\n",
       "      <th>0</th>\n",
       "    </tr>\n",
       "  </thead>\n",
       "  <tbody>\n",
       "    <tr>\n",
       "      <th>app_domain</th>\n",
       "      <td>143</td>\n",
       "    </tr>\n",
       "  </tbody>\n",
       "</table>\n",
       "</div>"
      ],
      "text/plain": [
       "              0\n",
       "app_domain  143"
      ]
     },
     "execution_count": 3,
     "metadata": {},
     "output_type": "execute_result"
    }
   ],
   "source": [
    "uniquenumber = pd.DataFrame(trainfull.nunique())\n",
    "uniquenumber.sample()"
   ]
  },
  {
   "cell_type": "code",
   "execution_count": 4,
   "metadata": {},
   "outputs": [
    {
     "name": "stdout",
     "output_type": "stream",
     "text": [
      "(88655, 12) 0.7744064068580452\n"
     ]
    }
   ],
   "source": [
    "train70 = uniquenumber[uniquenumber[0]<=70]\n",
    "indexs = train70.index\n",
    "traindrop = trainfull[indexs]\n",
    "pos_trainDf = traindrop[traindrop['click'] == 1]\n",
    "neg_trainDf = traindrop[traindrop['click'] == 0].sample(n=20000, random_state=2020)\n",
    "trainDf = pd.concat([pos_trainDf, neg_trainDf], axis=0).sample(frac=1.0, random_state=2020)\n",
    "del pos_trainDf; del neg_trainDf; gc.collect();\n",
    "\n",
    "print(trainDf.shape, trainDf['click'].mean())"
   ]
  },
  {
   "cell_type": "code",
   "execution_count": 5,
   "metadata": {},
   "outputs": [
    {
     "name": "stdout",
     "output_type": "stream",
     "text": [
      "0.7741950038351055 (66491, 12)\n",
      "0.7750406063887385 (22164, 12)\n"
     ]
    }
   ],
   "source": [
    "trainDf, testDf, _, _ = train_test_split(trainDf, trainDf['click'], test_size=0.25, random_state=2018)\n",
    "\n",
    "print(trainDf['click'].mean(), trainDf.shape)\n",
    "print(testDf['click'].mean(), testDf.shape)"
   ]
  },
  {
   "cell_type": "code",
   "execution_count": 6,
   "metadata": {},
   "outputs": [],
   "source": [
    "x_train = trainDf.drop(['click'], axis=1)\n",
    "y_train = trainDf['click']\n",
    "x_test = testDf.drop(['click'], axis=1)\n",
    "y_test = testDf['click']\n",
    "x_total = pd.concat([x_train, x_test]).reset_index()\n",
    "cols = list(x_train.columns)"
   ]
  },
  {
   "cell_type": "code",
   "execution_count": 7,
   "metadata": {},
   "outputs": [
    {
     "data": {
      "text/plain": [
       "(66491, 11)"
      ]
     },
     "execution_count": 7,
     "metadata": {},
     "output_type": "execute_result"
    }
   ],
   "source": [
    "train_sz = x_train.shape\n",
    "train_sz"
   ]
  },
  {
   "cell_type": "code",
   "execution_count": 8,
   "metadata": {},
   "outputs": [],
   "source": [
    "train_sz = x_train.shape[0]\n",
    "\n",
    "\n",
    "for col in x_train.columns:\n",
    "    onehotret = pd.get_dummies(x_total[col], prefix=col)\n",
    "    x_total = pd.concat([x_total, onehotret], axis=1)\n",
    "    \n",
    "x_train = x_total[:train_sz]\n",
    "x_test = x_total[train_sz:]\n",
    "x_train = x_train.drop(columns=cols)\n",
    "x_test = x_test.drop(columns=cols)\n",
    "x_train = x_train.drop(columns=['index'])\n",
    "x_test = x_test.drop(columns=['index'])\n",
    "x_total = x_total.drop(columns=cols)\n",
    "x_total = x_total.drop(columns=['index'])"
   ]
  },
  {
   "cell_type": "markdown",
   "metadata": {},
   "source": [
    "### Use Logistic Regression for classification directly"
   ]
  },
  {
   "cell_type": "code",
   "execution_count": 9,
   "metadata": {},
   "outputs": [
    {
     "name": "stdout",
     "output_type": "stream",
     "text": [
      "Ridge best score: 0.67833937325081\n",
      "Ridge best parameters: {'alpha': 10}\n",
      "Lasso best score: 0.6796673145883362\n"
     ]
    }
   ],
   "source": [
    "from sklearn.linear_model import LogisticRegression, RidgeClassifier\n",
    "from sklearn.model_selection import GridSearchCV\n",
    "\n",
    "parameters = {'alpha':[0.01,0.1,1,10,50]}\n",
    "ridge = RidgeClassifier()\n",
    "clf_ridge = GridSearchCV(ridge, parameters,cv=5,scoring='roc_auc')\n",
    "clf_ridge.fit(x_train, y_train)\n",
    "print('Ridge best score:',clf_ridge.best_score_)\n",
    "print('Ridge best parameters:',clf_ridge.best_params_) \n",
    "\n",
    "lasso = LogisticRegression(penalty='l1',solver='liblinear')\n",
    "clf_lasso = GridSearchCV(lasso,{},cv=5,scoring='roc_auc')\n",
    "clf_lasso.fit(x_train, y_train)\n",
    "print('Lasso best score:',clf_lasso.best_score_) "
   ]
  },
  {
   "cell_type": "code",
   "execution_count": 10,
   "metadata": {},
   "outputs": [
    {
     "name": "stdout",
     "output_type": "stream",
     "text": [
      "auc score on test ridge: 0.7058803611738149\n"
     ]
    }
   ],
   "source": [
    "from sklearn.metrics import accuracy_score,auc,log_loss,roc_curve,roc_auc_score\n",
    "\n",
    "ridge_best = RidgeClassifier(alpha = 10)\n",
    "ridge_best.fit(x_train,y_train)\n",
    "predict_y = ridge_best.predict(x_test)\n",
    "print('auc score on test ridge:',roc_auc_score(predict_y,y_test))"
   ]
  },
  {
   "cell_type": "code",
   "execution_count": 11,
   "metadata": {},
   "outputs": [
    {
     "name": "stdout",
     "output_type": "stream",
     "text": [
      "auc score on test lasso: 0.7036161819652365\n"
     ]
    }
   ],
   "source": [
    "predict_y_2 = clf_lasso.predict(x_test)\n",
    "print('auc score on test lasso:',roc_auc_score(predict_y_2,y_test))"
   ]
  },
  {
   "cell_type": "markdown",
   "metadata": {},
   "source": [
    "### Random Forest Tree"
   ]
  },
  {
   "cell_type": "code",
   "execution_count": 12,
   "metadata": {},
   "outputs": [],
   "source": [
    "from sklearn.model_selection import GridSearchCV\n",
    "from sklearn.datasets import make_classification\n",
    "from sklearn.ensemble import RandomForestClassifier\n",
    "rfc = RandomForestClassifier(n_jobs=-1,max_features= 'sqrt' ,n_estimators=50, oob_score = True) \n",
    "\n",
    "param_grid = { \n",
    "    'n_estimators': [200, 700],\n",
    "    'max_features': ['auto', 'sqrt', 'log2']\n",
    "}"
   ]
  },
  {
   "cell_type": "code",
   "execution_count": null,
   "metadata": {},
   "outputs": [],
   "source": [
    "param_grid2 = { \n",
    "    'n_estimators': [200, 500],\n",
    "    'max_features': ['auto', 'sqrt', 'log2'],\n",
    "    'max_depth' : [4,5,6,7,8],\n",
    "    'criterion' :['gini', 'entropy']\n",
    "}"
   ]
  },
  {
   "cell_type": "code",
   "execution_count": 14,
   "metadata": {},
   "outputs": [
    {
     "name": "stdout",
     "output_type": "stream",
     "text": [
      "{'max_features': 'log2', 'n_estimators': 700}\n"
     ]
    }
   ],
   "source": [
    "CV_rfc = GridSearchCV(estimator=rfc, param_grid=param_grid, cv= 5)\n",
    "CV_rfc.fit(x_train,y_train)\n",
    "print(CV_rfc.best_params_)"
   ]
  },
  {
   "cell_type": "code",
   "execution_count": 16,
   "metadata": {},
   "outputs": [
    {
     "data": {
      "text/plain": [
       "RandomForestClassifier(bootstrap=True, ccp_alpha=0.0, class_weight=None,\n",
       "                       criterion='gini', max_depth=None, max_features='log2',\n",
       "                       max_leaf_nodes=None, max_samples=None,\n",
       "                       min_impurity_decrease=0.0, min_impurity_split=None,\n",
       "                       min_samples_leaf=1, min_samples_split=2,\n",
       "                       min_weight_fraction_leaf=0.0, n_estimators=700,\n",
       "                       n_jobs=None, oob_score=False, random_state=None,\n",
       "                       verbose=0, warm_start=False)"
      ]
     },
     "execution_count": 16,
     "metadata": {},
     "output_type": "execute_result"
    }
   ],
   "source": [
    "rfc_best=RandomForestClassifier(max_features='log2', \n",
    "                            n_estimators= 700)\n",
    "rfc_best.fit(x_train, y_train)"
   ]
  },
  {
   "cell_type": "code",
   "execution_count": 17,
   "metadata": {
    "scrolled": true
   },
   "outputs": [
    {
     "name": "stdout",
     "output_type": "stream",
     "text": [
      "auc score on test: 0.7006388924770206\n",
      "auc score on train: 0.7563298317513317\n"
     ]
    }
   ],
   "source": [
    "from sklearn.metrics import accuracy_score,auc,log_loss,roc_curve,roc_auc_score\n",
    "predict_y_rf = rfc_best.predict(x_test)\n",
    "predict_train_rf = rfc_best.predict(x_train)\n",
    "print('auc score on test:',roc_auc_score(predict_y_rf,y_test))\n",
    "print('auc score on train:',roc_auc_score(predict_train_rf,y_train))"
   ]
  },
  {
   "cell_type": "markdown",
   "metadata": {},
   "source": [
    "### Gradient Boosted Tree"
   ]
  },
  {
   "cell_type": "code",
   "execution_count": 13,
   "metadata": {},
   "outputs": [
    {
     "name": "stdout",
     "output_type": "stream",
     "text": [
      "auc score on test: 0.7270987933139912\n",
      "auc score on train: 0.7753534764943496\n"
     ]
    }
   ],
   "source": [
    "from sklearn.ensemble import GradientBoostingClassifier\n",
    "from sklearn.metrics import accuracy_score,auc,log_loss,roc_curve,roc_auc_score\n",
    "\n",
    "gbml = GradientBoostingClassifier(n_estimators=50, random_state=10, subsample=0.6, max_depth=10, learning_rate = 0.1)\n",
    "gbml.fit(x_train, y_train)\n",
    "predict_y_gbm = gbml.predict(x_test)\n",
    "predict_train = gbml.predict(x_train)\n",
    "print('auc score on test:',roc_auc_score(predict_y_gbm,y_test))\n",
    "print('auc score on train:',roc_auc_score(predict_train,y_train))"
   ]
  },
  {
   "cell_type": "markdown",
   "metadata": {},
   "source": [
    "### GBDT + LR"
   ]
  },
  {
   "cell_type": "code",
   "execution_count": 15,
   "metadata": {},
   "outputs": [],
   "source": [
    "from sklearn.preprocessing import OneHotEncoder\n",
    "\n",
    "enc = OneHotEncoder()\n",
    "\n",
    "train_new_feature = gbml.apply(x_train)\n",
    "train_new_feature = train_new_feature.reshape(-1, 50)\n",
    "enc.fit(train_new_feature)\n",
    "\n",
    "train_new_feature2 = np.array(enc.transform(train_new_feature).toarray())"
   ]
  },
  {
   "cell_type": "code",
   "execution_count": 16,
   "metadata": {},
   "outputs": [],
   "source": [
    "test_new_feature = gbml.apply(x_test)\n",
    "test_new_feature = test_new_feature.reshape(-1, 50)\n",
    "test_new_feature2 = np.array(enc.transform(test_new_feature).toarray())"
   ]
  },
  {
   "cell_type": "code",
   "execution_count": 20,
   "metadata": {},
   "outputs": [
    {
     "data": {
      "text/plain": [
       "GridSearchCV(cv=5,\n",
       "             estimator=LogisticRegression(penalty='l1', solver='liblinear'),\n",
       "             param_grid={}, scoring='roc_auc')"
      ]
     },
     "execution_count": 20,
     "metadata": {},
     "output_type": "execute_result"
    }
   ],
   "source": [
    "clf_lasso.fit(train_new_feature2, y_train)"
   ]
  },
  {
   "cell_type": "code",
   "execution_count": 24,
   "metadata": {},
   "outputs": [
    {
     "data": {
      "text/plain": [
       "RidgeClassifier(alpha=10)"
      ]
     },
     "execution_count": 24,
     "metadata": {},
     "output_type": "execute_result"
    }
   ],
   "source": [
    "ridge_best.fit(train_new_feature2, y_train)"
   ]
  },
  {
   "cell_type": "code",
   "execution_count": 25,
   "metadata": {},
   "outputs": [
    {
     "name": "stdout",
     "output_type": "stream",
     "text": [
      "auc score on test lasso: 0.7105855624747645\n",
      "auc score on test ridge: 0.7069014120229666\n"
     ]
    }
   ],
   "source": [
    "predict_y = clf_lasso.predict(test_new_feature2)\n",
    "print('auc score on test lasso:',roc_auc_score(predict_y,y_test))\n",
    "\n",
    "predict_y = ridge_best.predict(test_new_feature2)\n",
    "print('auc score on test ridge:',roc_auc_score(predict_y,y_test))"
   ]
  },
  {
   "cell_type": "code",
   "execution_count": 27,
   "metadata": {},
   "outputs": [
    {
     "name": "stdout",
     "output_type": "stream",
     "text": [
      "auc score on train lasso: 0.7425609437491809\n"
     ]
    }
   ],
   "source": [
    "predict_y = clf_lasso.predict(train_new_feature2)\n",
    "print('auc score on train lasso:',roc_auc_score(predict_y,y_train))"
   ]
  }
 ],
 "metadata": {
  "kernelspec": {
   "display_name": "Python 3",
   "language": "python",
   "name": "python3"
  },
  "language_info": {
   "codemirror_mode": {
    "name": "ipython",
    "version": 3
   },
   "file_extension": ".py",
   "mimetype": "text/x-python",
   "name": "python",
   "nbconvert_exporter": "python",
   "pygments_lexer": "ipython3",
   "version": "3.7.6"
  }
 },
 "nbformat": 4,
 "nbformat_minor": 4
}
